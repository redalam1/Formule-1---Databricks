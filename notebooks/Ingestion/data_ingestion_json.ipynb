{
  "cells": [
    {
      "cell_type": "markdown",
      "metadata": {
        "id": "8JByEynJ-9HS"
      },
      "source": [
        "# data_ingestion - single or multilines\n"
      ]
    },
    {
      "cell_type": "code",
      "execution_count": 1,
      "metadata": {
        "id": "LD3jO_zI-83w"
      },
      "outputs": [],
      "source": [
        "# Importation des bibliothèques\n",
        "from pyspark.sql import SparkSession\n",
        "from pyspark.sql.types import StructType, StructField, IntegerType, StringType, DoubleType, DateType\n",
        "\n",
        "# Création d'une session Spark\n",
        "spark = SparkSession.builder.appName(\"Data Ingestion\").getOrCreate()"
      ]
    },
    {
      "cell_type": "markdown",
      "metadata": {
        "id": "uOoMZe3E_chf"
      },
      "source": [
        "## Dataframe Reader"
      ]
    },
    {
      "cell_type": "markdown",
      "metadata": {},
      "source": [
        "### Defining data files variable:"
      ]
    },
    {
      "cell_type": "code",
      "execution_count": 2,
      "metadata": {},
      "outputs": [],
      "source": [
        "constructors_path = \"../data/raw/constructors.json\"\n",
        "drivers_path = \"../data/raw/drivers.json\"\n",
        "pit_stops_path = \"../data/raw/pit_stops.json\""
      ]
    },
    {
      "cell_type": "markdown",
      "metadata": {
        "id": "sVw9MpMdF5fo"
      },
      "source": [
        "### One line JSON file :\n",
        "\n",
        "{\"constructorId\":1,\"constructorRef\":\"mclaren\",\"name\":\"McLaren\",\"nationality\":\"British\",\"url\":\"http://en.wikipedia.org/wiki/McLaren\"}\n"
      ]
    },
    {
      "cell_type": "code",
      "execution_count": 3,
      "metadata": {
        "colab": {
          "base_uri": "https://localhost:8080/"
        },
        "id": "PBk6urGV-c8o",
        "outputId": "5c9a98cf-a8f7-4254-8dc2-a5adc1915b4a"
      },
      "outputs": [
        {
          "name": "stdout",
          "output_type": "stream",
          "text": [
            "root\n",
            " |-- constructorId: integer (nullable = true)\n",
            " |-- constructorRef: string (nullable = true)\n",
            " |-- name: string (nullable = true)\n",
            " |-- nationality: string (nullable = true)\n",
            " |-- url: string (nullable = true)\n",
            "\n",
            "+-------------+--------------+-----------+-----------+--------------------+\n",
            "|constructorId|constructorRef|       name|nationality|                 url|\n",
            "+-------------+--------------+-----------+-----------+--------------------+\n",
            "|            1|       mclaren|    McLaren|    British|http://en.wikiped...|\n",
            "|            2|    bmw_sauber| BMW Sauber|     German|http://en.wikiped...|\n",
            "|            3|      williams|   Williams|    British|http://en.wikiped...|\n",
            "|            4|       renault|    Renault|     French|http://en.wikiped...|\n",
            "|            5|    toro_rosso| Toro Rosso|    Italian|http://en.wikiped...|\n",
            "|            6|       ferrari|    Ferrari|    Italian|http://en.wikiped...|\n",
            "|            7|        toyota|     Toyota|   Japanese|http://en.wikiped...|\n",
            "|            8|   super_aguri|Super Aguri|   Japanese|http://en.wikiped...|\n",
            "|            9|      red_bull|   Red Bull|   Austrian|http://en.wikiped...|\n",
            "|           10|   force_india|Force India|     Indian|http://en.wikiped...|\n",
            "+-------------+--------------+-----------+-----------+--------------------+\n",
            "only showing top 10 rows\n",
            "\n"
          ]
        }
      ],
      "source": [
        "df_constructors_schema = StructType(fields=[\n",
        "                                        StructField(\"constructorId\", IntegerType(), False),\n",
        "                                        StructField(\"constructorRef\", StringType(), True),\n",
        "                                        StructField(\"name\", StringType(), True),\n",
        "                                        StructField(\"nationality\", StringType(), True),\n",
        "                                        StructField(\"url\", StringType(), True)\n",
        "                                ])\n",
        "\n",
        "df_constructors = spark.read.schema(df_constructors_schema).json(constructors_path)\n",
        "df_constructors.printSchema()\n",
        "df_constructors.show(n=10)"
      ]
    },
    {
      "cell_type": "markdown",
      "metadata": {
        "id": "CmGjErtUGD1n"
      },
      "source": [
        "### Nested fields\n",
        "\n",
        "{\"driverId\":1,\"driverRef\":\"hamilton\",\"number\":44,\"code\":\"HAM\",\"name\":{\"forename\":\"Lewis\",\"surname\":\"Hamilton\"},\"dob\":\"1985-01-07\",\"nationality\":\"British\",\"url\":\"http://en.wikipedia.org/wiki/Lewis_Hamilton\"}\n"
      ]
    },
    {
      "cell_type": "code",
      "execution_count": 4,
      "metadata": {
        "colab": {
          "base_uri": "https://localhost:8080/"
        },
        "id": "_SzmEtZRFFKA",
        "outputId": "56bd39c6-b6a4-490c-b8a0-8d8a8b612486"
      },
      "outputs": [
        {
          "name": "stdout",
          "output_type": "stream",
          "text": [
            "root\n",
            " |-- driverId: integer (nullable = true)\n",
            " |-- driverRef: string (nullable = true)\n",
            " |-- number: integer (nullable = true)\n",
            " |-- code: string (nullable = true)\n",
            " |-- name: struct (nullable = true)\n",
            " |    |-- forename: string (nullable = true)\n",
            " |    |-- surname: string (nullable = true)\n",
            " |-- dob: date (nullable = true)\n",
            " |-- nationality: string (nullable = true)\n",
            " |-- url: string (nullable = true)\n",
            "\n",
            "+--------+----------+------+----+--------------------+----------+-----------+--------------------+\n",
            "|driverId| driverRef|number|code|                name|       dob|nationality|                 url|\n",
            "+--------+----------+------+----+--------------------+----------+-----------+--------------------+\n",
            "|       1|  hamilton|    44| HAM|   {Lewis, Hamilton}|1985-01-07|    British|http://en.wikiped...|\n",
            "|       2|  heidfeld|  NULL| HEI|    {Nick, Heidfeld}|1977-05-10|     German|http://en.wikiped...|\n",
            "|       3|   rosberg|     6| ROS|     {Nico, Rosberg}|1985-06-27|     German|http://en.wikiped...|\n",
            "|       4|    alonso|    14| ALO|  {Fernando, Alonso}|1981-07-29|    Spanish|http://en.wikiped...|\n",
            "|       5|kovalainen|  NULL| KOV|{Heikki, Kovalainen}|1981-10-19|    Finnish|http://en.wikiped...|\n",
            "|       6|  nakajima|  NULL| NAK|  {Kazuki, Nakajima}|1985-01-11|   Japanese|http://en.wikiped...|\n",
            "|       7|  bourdais|  NULL| BOU|{Sébastien, Bourd...|1979-02-28|     French|http://en.wikiped...|\n",
            "|       8| raikkonen|     7| RAI|   {Kimi, Räikkönen}|1979-10-17|    Finnish|http://en.wikiped...|\n",
            "|       9|    kubica|    88| KUB|    {Robert, Kubica}|1984-12-07|     Polish|http://en.wikiped...|\n",
            "|      10|     glock|  NULL| GLO|       {Timo, Glock}|1982-03-18|     German|http://en.wikiped...|\n",
            "+--------+----------+------+----+--------------------+----------+-----------+--------------------+\n",
            "only showing top 10 rows\n",
            "\n"
          ]
        }
      ],
      "source": [
        "name_schema = StructType(fields=[\n",
        "                                StructField(\"forename\", StringType(), True),\n",
        "                                StructField(\"surname\", StringType(), True)\n",
        "])\n",
        "\n",
        "df_drivers_schema = StructType(fields=[\n",
        "                                        StructField(\"driverId\", IntegerType(), False),\n",
        "                                        StructField(\"driverRef\", StringType(), True),\n",
        "                                        StructField(\"number\", IntegerType(), True),\n",
        "                                        StructField(\"code\", StringType(), True),\n",
        "                                        StructField(\"name\", name_schema),\n",
        "                                        StructField(\"dob\", DateType(), True),\n",
        "                                        StructField(\"nationality\", StringType(), True),\n",
        "                                        StructField(\"url\", StringType(), True)\n",
        "                                ])\n",
        "\n",
        "df_drivers = spark.read.schema(df_drivers_schema).json(drivers_path)\n",
        "df_drivers.printSchema()\n",
        "df_drivers.show(n=10)"
      ]
    },
    {
      "cell_type": "markdown",
      "metadata": {
        "id": "ALzGi3eVHlTS"
      },
      "source": [
        "### Multiline json file\n",
        "\n",
        "   {<br>\n",
        "      \"raceId\":841,<br>\n",
        "      \"driverId\":153,<br>\n",
        "      \"stop\":1,<br>\n",
        "      \"lap\":1,<br>\n",
        "      \"time\":\"17:05:23\",<br>\n",
        "      \"duration\":26.898,<br>\n",
        "      \"milliseconds\":26898<br>\n",
        "   }"
      ]
    },
    {
      "cell_type": "code",
      "execution_count": 5,
      "metadata": {
        "colab": {
          "base_uri": "https://localhost:8080/"
        },
        "id": "xAUmfPC6G5VP",
        "outputId": "c43f7414-914b-4c39-919b-2ced6ec61b55"
      },
      "outputs": [
        {
          "name": "stdout",
          "output_type": "stream",
          "text": [
            "root\n",
            " |-- raceId: integer (nullable = true)\n",
            " |-- driverId: integer (nullable = true)\n",
            " |-- stop: string (nullable = true)\n",
            " |-- lap: integer (nullable = true)\n",
            " |-- time: string (nullable = true)\n",
            " |-- duration: string (nullable = true)\n",
            " |-- milliseconds: integer (nullable = true)\n",
            "\n",
            "+------+--------+----+---+--------+--------+------------+\n",
            "|raceId|driverId|stop|lap|    time|duration|milliseconds|\n",
            "+------+--------+----+---+--------+--------+------------+\n",
            "|   841|     153|   1|  1|17:05:23|  26.898|       26898|\n",
            "|   841|      30|   1|  1|17:05:52|  25.021|       25021|\n",
            "|   841|      17|   1| 11|17:20:48|  23.426|       23426|\n",
            "|   841|       4|   1| 12|17:22:34|  23.251|       23251|\n",
            "|   841|      13|   1| 13|17:24:10|  23.842|       23842|\n",
            "|   841|      22|   1| 13|17:24:29|  23.643|       23643|\n",
            "|   841|      20|   1| 14|17:25:17|  22.603|       22603|\n",
            "|   841|     814|   1| 14|17:26:03|  24.863|       24863|\n",
            "|   841|     816|   1| 14|17:26:50|  25.259|       25259|\n",
            "|   841|      67|   1| 15|17:27:34|  25.342|       25342|\n",
            "+------+--------+----+---+--------+--------+------------+\n",
            "only showing top 10 rows\n",
            "\n"
          ]
        }
      ],
      "source": [
        "pit_stops_schema = StructType(fields=[\n",
        "                                        StructField(\"raceId\", IntegerType(), False),\n",
        "                                        StructField(\"driverId\", IntegerType(), True),\n",
        "                                        StructField(\"stop\", StringType(), True),\n",
        "                                        StructField(\"lap\", IntegerType(), True),\n",
        "                                        StructField(\"time\", StringType(), True),\n",
        "                                        StructField(\"duration\", StringType(), True),\n",
        "                                        StructField(\"milliseconds\", IntegerType(), True)\n",
        "])\n",
        "\n",
        "df_pit_stops = spark.read.json(pit_stops_path, multiLine=True, schema=pit_stops_schema)\n",
        "df_pit_stops.printSchema()\n",
        "df_pit_stops.show(n=10)"
      ]
    },
    {
      "cell_type": "markdown",
      "metadata": {
        "id": "5ESYTwmpUfwJ"
      },
      "source": [
        "## Clean and Close the door"
      ]
    },
    {
      "cell_type": "code",
      "execution_count": 6,
      "metadata": {
        "id": "QAZpqA-6UcBw"
      },
      "outputs": [],
      "source": [
        "spark.stop()"
      ]
    },
    {
      "cell_type": "code",
      "execution_count": null,
      "metadata": {
        "id": "S9sYoIVAU1ZK"
      },
      "outputs": [],
      "source": []
    }
  ],
  "metadata": {
    "colab": {
      "provenance": []
    },
    "kernelspec": {
      "display_name": "Python 3",
      "name": "python3"
    },
    "language_info": {
      "codemirror_mode": {
        "name": "ipython",
        "version": 3
      },
      "file_extension": ".py",
      "mimetype": "text/x-python",
      "name": "python",
      "nbconvert_exporter": "python",
      "pygments_lexer": "ipython3",
      "version": "3.12.7"
    }
  },
  "nbformat": 4,
  "nbformat_minor": 0
}
