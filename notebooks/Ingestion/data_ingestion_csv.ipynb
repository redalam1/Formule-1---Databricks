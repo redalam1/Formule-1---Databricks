{
  "cells": [
    {
      "cell_type": "markdown",
      "metadata": {
        "id": "8JByEynJ-9HS"
      },
      "source": [
        "# data_ingestion"
      ]
    },
    {
      "cell_type": "code",
      "execution_count": 1,
      "metadata": {
        "id": "LD3jO_zI-83w"
      },
      "outputs": [],
      "source": [
        "# Importation des bibliothèques\n",
        "from pyspark.sql import SparkSession\n",
        "from pyspark.sql.types import StructType, StructField, IntegerType, StringType, DoubleType\n",
        "\n",
        "# Création d'une session Spark\n",
        "spark = SparkSession.builder.appName(\"Data Ingestion\").getOrCreate()"
      ]
    },
    {
      "cell_type": "markdown",
      "metadata": {
        "id": "uOoMZe3E_chf"
      },
      "source": [
        "## Dataframe Reader"
      ]
    },
    {
      "cell_type": "markdown",
      "metadata": {},
      "source": [
        "### Defining data files variable:"
      ]
    },
    {
      "cell_type": "code",
      "execution_count": 2,
      "metadata": {},
      "outputs": [],
      "source": [
        "circuits_path = \"../data/raw/circuits.csv\""
      ]
    },
    {
      "cell_type": "markdown",
      "metadata": {
        "id": "sVw9MpMdF5fo"
      },
      "source": [
        "### Without options :"
      ]
    },
    {
      "cell_type": "code",
      "execution_count": 3,
      "metadata": {
        "colab": {
          "base_uri": "https://localhost:8080/"
        },
        "id": "PBk6urGV-c8o",
        "outputId": "700e071d-3603-4134-c1d8-589ab333b85d"
      },
      "outputs": [
        {
          "name": "stdout",
          "output_type": "stream",
          "text": [
            "+---------+-----------+--------------------+------------+---------+--------+--------+---+--------------------+\n",
            "|      _c0|        _c1|                 _c2|         _c3|      _c4|     _c5|     _c6|_c7|                 _c8|\n",
            "+---------+-----------+--------------------+------------+---------+--------+--------+---+--------------------+\n",
            "|circuitId| circuitRef|                name|    location|  country|     lat|     lng|alt|                 url|\n",
            "|        1|albert_park|Albert Park Grand...|   Melbourne|Australia|-37.8497| 144.968| 10|http://en.wikiped...|\n",
            "|        2|     sepang|Sepang Internatio...|Kuala Lumpur| Malaysia| 2.76083| 101.738| 18|http://en.wikiped...|\n",
            "|        3|    bahrain|Bahrain Internati...|      Sakhir|  Bahrain| 26.0325| 50.5106|  7|http://en.wikiped...|\n",
            "|        4|  catalunya|Circuit de Barcel...|    Montmeló|    Spain|   41.57| 2.26111|109|http://en.wikiped...|\n",
            "|        5|   istanbul|       Istanbul Park|    Istanbul|   Turkey| 40.9517|  29.405|130|http://en.wikiped...|\n",
            "|        6|     monaco|   Circuit de Monaco| Monte-Carlo|   Monaco| 43.7347| 7.42056|  7|http://en.wikiped...|\n",
            "|        7| villeneuve|Circuit Gilles Vi...|    Montreal|   Canada|    45.5|-73.5228| 13|http://en.wikiped...|\n",
            "|        8|magny_cours|Circuit de Nevers...| Magny Cours|   France| 46.8642| 3.16361|228|http://en.wikiped...|\n",
            "|        9|silverstone| Silverstone Circuit| Silverstone|       UK| 52.0786|-1.01694|153|http://en.wikiped...|\n",
            "+---------+-----------+--------------------+------------+---------+--------+--------+---+--------------------+\n",
            "only showing top 10 rows\n",
            "\n"
          ]
        }
      ],
      "source": [
        "df_circuit = spark.read.csv(circuits_path)\n",
        "df_circuit.show(n=10)"
      ]
    },
    {
      "cell_type": "markdown",
      "metadata": {
        "id": "CmGjErtUGD1n"
      },
      "source": [
        "### With header (first line as a header) :"
      ]
    },
    {
      "cell_type": "code",
      "execution_count": 4,
      "metadata": {
        "colab": {
          "base_uri": "https://localhost:8080/"
        },
        "id": "_SzmEtZRFFKA",
        "outputId": "609f1ae7-0649-429a-b660-99922e908234"
      },
      "outputs": [
        {
          "name": "stdout",
          "output_type": "stream",
          "text": [
            "+---------+--------------+--------------------+------------+---------+--------+--------+---+--------------------+\n",
            "|circuitId|    circuitRef|                name|    location|  country|     lat|     lng|alt|                 url|\n",
            "+---------+--------------+--------------------+------------+---------+--------+--------+---+--------------------+\n",
            "|        1|   albert_park|Albert Park Grand...|   Melbourne|Australia|-37.8497| 144.968| 10|http://en.wikiped...|\n",
            "|        2|        sepang|Sepang Internatio...|Kuala Lumpur| Malaysia| 2.76083| 101.738| 18|http://en.wikiped...|\n",
            "|        3|       bahrain|Bahrain Internati...|      Sakhir|  Bahrain| 26.0325| 50.5106|  7|http://en.wikiped...|\n",
            "|        4|     catalunya|Circuit de Barcel...|    Montmeló|    Spain|   41.57| 2.26111|109|http://en.wikiped...|\n",
            "|        5|      istanbul|       Istanbul Park|    Istanbul|   Turkey| 40.9517|  29.405|130|http://en.wikiped...|\n",
            "|        6|        monaco|   Circuit de Monaco| Monte-Carlo|   Monaco| 43.7347| 7.42056|  7|http://en.wikiped...|\n",
            "|        7|    villeneuve|Circuit Gilles Vi...|    Montreal|   Canada|    45.5|-73.5228| 13|http://en.wikiped...|\n",
            "|        8|   magny_cours|Circuit de Nevers...| Magny Cours|   France| 46.8642| 3.16361|228|http://en.wikiped...|\n",
            "|        9|   silverstone| Silverstone Circuit| Silverstone|       UK| 52.0786|-1.01694|153|http://en.wikiped...|\n",
            "|       10|hockenheimring|      Hockenheimring|  Hockenheim|  Germany| 49.3278| 8.56583|103|http://en.wikiped...|\n",
            "+---------+--------------+--------------------+------------+---------+--------+--------+---+--------------------+\n",
            "only showing top 10 rows\n",
            "\n"
          ]
        }
      ],
      "source": [
        "df_circuit = spark.read.csv(circuits_path, header=True)\n",
        "df_circuit.show(n=10)"
      ]
    },
    {
      "cell_type": "code",
      "execution_count": 5,
      "metadata": {
        "colab": {
          "base_uri": "https://localhost:8080/"
        },
        "id": "-RNni2mgGe01",
        "outputId": "c85a8b8e-737c-4a37-8cff-3aca4e17e30d"
      },
      "outputs": [
        {
          "name": "stdout",
          "output_type": "stream",
          "text": [
            "root\n",
            " |-- circuitId: string (nullable = true)\n",
            " |-- circuitRef: string (nullable = true)\n",
            " |-- name: string (nullable = true)\n",
            " |-- location: string (nullable = true)\n",
            " |-- country: string (nullable = true)\n",
            " |-- lat: string (nullable = true)\n",
            " |-- lng: string (nullable = true)\n",
            " |-- alt: string (nullable = true)\n",
            " |-- url: string (nullable = true)\n",
            "\n"
          ]
        }
      ],
      "source": [
        "df_circuit.printSchema()"
      ]
    },
    {
      "cell_type": "markdown",
      "metadata": {
        "id": "ALzGi3eVHlTS"
      },
      "source": [
        "### inferSchema to automatically detect the data types"
      ]
    },
    {
      "cell_type": "code",
      "execution_count": 6,
      "metadata": {
        "colab": {
          "base_uri": "https://localhost:8080/"
        },
        "id": "xAUmfPC6G5VP",
        "outputId": "31c9c967-921d-4018-ec54-e857461e5ce9"
      },
      "outputs": [
        {
          "name": "stdout",
          "output_type": "stream",
          "text": [
            "root\n",
            " |-- circuitId: integer (nullable = true)\n",
            " |-- circuitRef: string (nullable = true)\n",
            " |-- name: string (nullable = true)\n",
            " |-- location: string (nullable = true)\n",
            " |-- country: string (nullable = true)\n",
            " |-- lat: double (nullable = true)\n",
            " |-- lng: double (nullable = true)\n",
            " |-- alt: integer (nullable = true)\n",
            " |-- url: string (nullable = true)\n",
            "\n"
          ]
        }
      ],
      "source": [
        "df_circuit = spark.read.csv(circuits_path, header=True, inferSchema=True)\n",
        "df_circuit.printSchema()"
      ]
    },
    {
      "cell_type": "markdown",
      "metadata": {
        "id": "Uco4bVaGIQwF"
      },
      "source": [
        "**Not efficient with large volumes of data because inferSchema has to read all the data.**"
      ]
    },
    {
      "cell_type": "markdown",
      "metadata": {
        "id": "x1G9PxVuITpu"
      },
      "source": [
        "### Specify our Schema"
      ]
    },
    {
      "cell_type": "code",
      "execution_count": 7,
      "metadata": {
        "colab": {
          "base_uri": "https://localhost:8080/"
        },
        "id": "o87oNxjnHy5z",
        "outputId": "d58b8be2-8366-4fb9-eb38-491f883a29f2"
      },
      "outputs": [
        {
          "name": "stdout",
          "output_type": "stream",
          "text": [
            "root\n",
            " |-- circuitId: integer (nullable = true)\n",
            " |-- circuitRef: string (nullable = true)\n",
            " |-- name: string (nullable = true)\n",
            " |-- location: string (nullable = true)\n",
            " |-- country: string (nullable = true)\n",
            " |-- lat: double (nullable = true)\n",
            " |-- lng: double (nullable = true)\n",
            " |-- alt: integer (nullable = true)\n",
            " |-- url: string (nullable = true)\n",
            "\n"
          ]
        }
      ],
      "source": [
        "circuits_schema = StructType(fields=\n",
        "                                    [StructField(\"circuitId\", IntegerType(), False),\n",
        "                                    StructField(\"circuitRef\", StringType(), True),\n",
        "                                    StructField(\"name\", StringType(), True),\n",
        "                                    StructField(\"location\", StringType(), True),\n",
        "                                    StructField(\"country\", StringType(), True),\n",
        "                                    StructField(\"lat\", DoubleType(), True),\n",
        "                                    StructField(\"lng\", DoubleType(), True),\n",
        "                                    StructField(\"alt\", IntegerType(), True),\n",
        "                                    StructField(\"url\", StringType(), True)\n",
        "                                    ])\n",
        "\n",
        "df_circuit = spark.read.csv(circuits_path, header=True, schema=circuits_schema)\n",
        "df_circuit.printSchema()"
      ]
    },
    {
      "cell_type": "markdown",
      "metadata": {
        "id": "5ESYTwmpUfwJ"
      },
      "source": [
        "## Clean and Close the door"
      ]
    },
    {
      "cell_type": "code",
      "execution_count": 8,
      "metadata": {
        "id": "QAZpqA-6UcBw"
      },
      "outputs": [],
      "source": [
        "spark.stop()"
      ]
    },
    {
      "cell_type": "code",
      "execution_count": null,
      "metadata": {},
      "outputs": [],
      "source": []
    }
  ],
  "metadata": {
    "colab": {
      "provenance": []
    },
    "kernelspec": {
      "display_name": "Python 3",
      "name": "python3"
    },
    "language_info": {
      "codemirror_mode": {
        "name": "ipython",
        "version": 3
      },
      "file_extension": ".py",
      "mimetype": "text/x-python",
      "name": "python",
      "nbconvert_exporter": "python",
      "pygments_lexer": "ipython3",
      "version": "3.13.0b4"
    }
  },
  "nbformat": 4,
  "nbformat_minor": 0
}
